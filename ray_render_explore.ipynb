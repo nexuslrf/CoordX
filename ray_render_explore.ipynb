{
 "cells": [
  {
   "cell_type": "code",
   "execution_count": 3,
   "metadata": {},
   "outputs": [],
   "source": [
    "import torch\n",
    "import ray_rendering"
   ]
  },
  {
   "cell_type": "code",
   "execution_count": 4,
   "metadata": {},
   "outputs": [],
   "source": [
    "R = 2.\n",
    "c2w = ray_rendering.pose_spherical(90. + 10 + 45, -30., R)\n",
    "N_samples = 16\n",
    "N_samples_2 = 16\n",
    "H = 32\n",
    "W = H\n",
    "focal = H * .9\n",
    "near, far = R-1, R+1\n",
    "rays = ray_rendering.get_rays(H, W, focal, c2w[:3,:4])"
   ]
  },
  {
   "cell_type": "code",
   "execution_count": 5,
   "metadata": {},
   "outputs": [
    {
     "data": {
      "text/plain": [
       "torch.Size([2, 32, 32, 3])"
      ]
     },
     "execution_count": 5,
     "metadata": {},
     "output_type": "execute_result"
    }
   ],
   "source": [
    "rays.shape"
   ]
  },
  {
   "cell_type": "code",
   "execution_count": 6,
   "metadata": {},
   "outputs": [],
   "source": [
    "rays_o, rays_d = rays[0], rays[1]"
   ]
  },
  {
   "cell_type": "code",
   "execution_count": 36,
   "metadata": {},
   "outputs": [],
   "source": [
    "# Compute 3D query points\n",
    "z_vals = torch.linspace(near, far, N_samples)\n",
    "pts = rays_o[...,None,:] + rays_d[...,None,:] * z_vals[...,:,None]"
   ]
  },
  {
   "cell_type": "code",
   "execution_count": 8,
   "metadata": {},
   "outputs": [],
   "source": [
    "pts_flat = pts.reshape(-1, 3).numpy()"
   ]
  },
  {
   "cell_type": "code",
   "execution_count": null,
   "metadata": {
    "scrolled": true
   },
   "outputs": [],
   "source": [
    "import plotly.graph_objects as go\n",
    "\n",
    "layout = go.Layout(\n",
    "    autosize=False,\n",
    "    width=1000,\n",
    "    height=1000,\n",
    "\n",
    "    xaxis= go.layout.XAxis(linecolor = 'black',\n",
    "                          linewidth = 1,\n",
    "                          mirror = True),\n",
    "\n",
    "    yaxis= go.layout.YAxis(linecolor = 'black',\n",
    "                          linewidth = 1,\n",
    "                          mirror = True),\n",
    "\n",
    "    margin=go.layout.Margin(\n",
    "        l=50,\n",
    "        r=50,\n",
    "        b=100,\n",
    "        t=100,\n",
    "        pad = 4\n",
    "    )\n",
    ")\n",
    "\n",
    "fig = go.Figure(\n",
    "    data=[\n",
    "        go.Scatter3d(x=pts_flat[:,0], y=pts_flat[:,1], z=pts_flat[:,2], \n",
    "                     mode='markers',\n",
    "                     marker=dict(\n",
    "                        size=4,\n",
    "                        opacity=0.8\n",
    "                    )\n",
    "        )\n",
    "    ],\n",
    "    layout = layout\n",
    ")\n",
    "\n",
    "fig.show()"
   ]
  },
  {
   "cell_type": "markdown",
   "metadata": {},
   "source": [
    "### Properties"
   ]
  },
  {
   "cell_type": "code",
   "execution_count": 29,
   "metadata": {},
   "outputs": [],
   "source": [
    "norm = rays_d.norm(dim=-1)"
   ]
  },
  {
   "cell_type": "code",
   "execution_count": 34,
   "metadata": {},
   "outputs": [
    {
     "name": "stdout",
     "output_type": "stream",
     "text": [
      "tensor(1.2717) tensor(1.2717) tensor(1.2717) tensor(1.2717)\n",
      "tensor(1.2420) tensor(1.2420) tensor(1.2420) tensor(1.2420)\n",
      "tensor(1.2135) tensor(1.2135) tensor(1.2135) tensor(1.2135)\n",
      "tensor(1.1864) tensor(1.1864) tensor(1.1864) tensor(1.1864)\n",
      "tensor(1.1607) tensor(1.1607) tensor(1.1607) tensor(1.1607)\n",
      "tensor(1.1366) tensor(1.1366) tensor(1.1366) tensor(1.1366)\n",
      "tensor(1.1141) tensor(1.1141) tensor(1.1141) tensor(1.1141)\n",
      "tensor(1.0933) tensor(1.0933) tensor(1.0933) tensor(1.0933)\n",
      "tensor(1.0744) tensor(1.0744) tensor(1.0744) tensor(1.0744)\n",
      "tensor(1.0574) tensor(1.0574) tensor(1.0574) tensor(1.0574)\n",
      "tensor(1.0425) tensor(1.0425) tensor(1.0425) tensor(1.0425)\n",
      "tensor(1.0297) tensor(1.0297) tensor(1.0297) tensor(1.0297)\n",
      "tensor(1.0191) tensor(1.0191) tensor(1.0191) tensor(1.0191)\n",
      "tensor(1.0108) tensor(1.0108) tensor(1.0108) tensor(1.0108)\n",
      "tensor(1.0048) tensor(1.0048) tensor(1.0048) tensor(1.0048)\n",
      "tensor(1.0012) tensor(1.0012) tensor(1.0012) tensor(1.0012)\n"
     ]
    }
   ],
   "source": [
    "for i in range(16):\n",
    "    print(norm[-i,-i], norm[i,i], norm[-i,i], norm[i,-i])"
   ]
  },
  {
   "cell_type": "code",
   "execution_count": 54,
   "metadata": {},
   "outputs": [
    {
     "name": "stdout",
     "output_type": "stream",
     "text": [
      "tensor([[-1.0833, -0.0779, -0.5180],\n",
      "        [ 0.2223,  0.9445, -0.7116],\n",
      "        [-0.1163, -0.0779, -1.1952],\n",
      "        [-0.7447,  0.9445, -0.0345]])\n",
      "tensor([[-1.0398, -0.0438, -0.5245],\n",
      "        [ 0.1788,  0.9104, -0.7052],\n",
      "        [-0.1372, -0.0438, -1.1565],\n",
      "        [-0.7238,  0.9104, -0.0732]])\n",
      "tensor([[-0.9963, -0.0097, -0.5309],\n",
      "        [ 0.1353,  0.8764, -0.6987],\n",
      "        [-0.1582, -0.0097, -1.1178],\n",
      "        [-0.7028,  0.8764, -0.1119]])\n"
     ]
    }
   ],
   "source": [
    "lv = 1\n",
    "for i in range(1,4):\n",
    "    print(torch.stack([pts[-i,-i,lv], pts[i,i,lv], pts[-i,i,lv], pts[i,-i,lv]], 0))"
   ]
  },
  {
   "cell_type": "code",
   "execution_count": 45,
   "metadata": {},
   "outputs": [
    {
     "data": {
      "text/plain": [
       "tensor([[0.9811, 0.9811, 0.9811,  ..., 0.9811, 0.9811, 0.9811],\n",
       "        [0.9511, 0.9511, 0.9511,  ..., 0.9511, 0.9511, 0.9511],\n",
       "        [0.9210, 0.9210, 0.9210,  ..., 0.9210, 0.9210, 0.9210],\n",
       "        ...,\n",
       "        [0.1091, 0.1091, 0.1091,  ..., 0.1091, 0.1091, 0.1091],\n",
       "        [0.0790, 0.0790, 0.0790,  ..., 0.0790, 0.0790, 0.0790],\n",
       "        [0.0489, 0.0489, 0.0489,  ..., 0.0489, 0.0489, 0.0489]])"
      ]
     },
     "execution_count": 45,
     "metadata": {},
     "output_type": "execute_result"
    }
   ],
   "source": [
    "pts[:,:,0,1]"
   ]
  },
  {
   "cell_type": "code",
   "execution_count": 48,
   "metadata": {},
   "outputs": [
    {
     "data": {
      "text/plain": [
       "tensor([[-0.0189, -0.0189, -0.0189,  ..., -0.0189, -0.0189, -0.0189],\n",
       "        [-0.0489, -0.0489, -0.0489,  ..., -0.0489, -0.0489, -0.0489],\n",
       "        [-0.0790, -0.0790, -0.0790,  ..., -0.0790, -0.0790, -0.0790],\n",
       "        ...,\n",
       "        [-0.8909, -0.8909, -0.8909,  ..., -0.8909, -0.8909, -0.8909],\n",
       "        [-0.9210, -0.9210, -0.9210,  ..., -0.9210, -0.9210, -0.9210],\n",
       "        [-0.9511, -0.9511, -0.9511,  ..., -0.9511, -0.9511, -0.9511]])"
      ]
     },
     "execution_count": 48,
     "metadata": {},
     "output_type": "execute_result"
    }
   ],
   "source": [
    "rays_d[:,:,1]"
   ]
  },
  {
   "cell_type": "markdown",
   "metadata": {},
   "source": [
    "Coordinate transformation"
   ]
  },
  {
   "cell_type": "markdown",
   "metadata": {},
   "source": [
    "$$\n",
    "[x_w,y_w,z_w] = T_{c2w} \\cdot [x_c,y_c,z_c]^T\n",
    "$$"
   ]
  },
  {
   "cell_type": "code",
   "execution_count": 47,
   "metadata": {},
   "outputs": [
    {
     "data": {
      "text/plain": [
       "tensor([[-0.8192,  0.2868, -0.4967],\n",
       "        [ 0.0000,  0.8660,  0.5000],\n",
       "        [ 0.5736,  0.4096, -0.7094]])"
      ]
     },
     "execution_count": 47,
     "metadata": {},
     "output_type": "execute_result"
    }
   ],
   "source": [
    "c2w[:3,:3]"
   ]
  },
  {
   "cell_type": "code",
   "execution_count": 50,
   "metadata": {},
   "outputs": [],
   "source": [
    "j, i = torch.meshgrid(torch.arange(H), torch.arange(W))\n",
    "dirs = torch.stack([(i-W*.5)/focal, -(j-H*.5)/focal, -torch.ones_like(i)], -1)"
   ]
  },
  {
   "cell_type": "code",
   "execution_count": 52,
   "metadata": {},
   "outputs": [
    {
     "data": {
      "text/plain": [
       "torch.Size([32, 32, 3, 3])"
      ]
     },
     "execution_count": 52,
     "metadata": {},
     "output_type": "execute_result"
    }
   ],
   "source": [
    "(dirs.unsqueeze(-2) * c2w[:3,:3]).shape"
   ]
  },
  {
   "cell_type": "markdown",
   "metadata": {},
   "source": [
    "Transformation Matrix\n",
    "```python\n",
    "trans_t = lambda t : torch.tensor([\n",
    "    [1,0,0,0],\n",
    "    [0,1,0,0],\n",
    "    [0,0,1,t],\n",
    "    [0,0,0,1],\n",
    "], dtype=torch.float32)\n",
    "\n",
    "rot_phi = lambda phi : torch.tensor([\n",
    "    [1,0,0,0],\n",
    "    [0,torch.cos(phi),-torch.sin(phi),0],\n",
    "    [0,torch.sin(phi), torch.cos(phi),0],\n",
    "    [0,0,0,1],\n",
    "], dtype=torch.float32)\n",
    "\n",
    "rot_theta = lambda th : torch.tensor([\n",
    "    [torch.cos(th),0,-torch.sin(th),0],\n",
    "    [0,1,0,0],\n",
    "    [torch.sin(th),0, torch.cos(th),0],\n",
    "    [0,0,0,1],\n",
    "], dtype=torch.float32)\n",
    "\n",
    "def pose_spherical(theta, phi, radius):\n",
    "    c2w = trans_t(radius)\n",
    "    c2w = rot_phi(torch.tensor(phi/180.*np.pi)) @ c2w\n",
    "    c2w = rot_theta(torch.tensor(theta/180.*np.pi)) @ c2w\n",
    "    # c2w = np.array([[-1,0,0,0],[0,0,1,0],[0,1,0,0],[0,0,0,1]]) @ c2w\n",
    "    return c2w\n",
    "```"
   ]
  },
  {
   "cell_type": "markdown",
   "metadata": {},
   "source": [
    "$$\n",
    "\\begin{bmatrix}\n",
    "\\cos\\theta&0&-\\sin\\theta& 0\\\\\n",
    "0 & 1 & 0 & 0\\\\\n",
    "\\sin\\theta & 0 & \\cos\\theta & 0\\\\\n",
    "0 & 0 & 0 & 1\n",
    "\\end{bmatrix}\n",
    "\\cdot\n",
    "\\begin{bmatrix}\n",
    "1&0&0&0\\\\\n",
    "0&\\cos\\phi&-\\sin\\phi&0\\\\\n",
    "0&\\sin\\phi& \\cos\\phi&0\\\\\n",
    "0&0&0&1\n",
    "\\end{bmatrix}\n",
    "\\cdot\n",
    "\\begin{bmatrix}\n",
    "1 & 0 & 0 &0 \\\\\n",
    "0 & 1 & 0 &0 \\\\\n",
    "0 & 0 & 1 &t \\\\\n",
    "0 & 0 & 0 &1\n",
    "\\end{bmatrix}\n",
    "=\n",
    "\\begin{bmatrix}\n",
    "\\cos\\theta & -\\sin\\theta\\cos\\phi & -\\sin\\theta\\cos\\phi & -t\\sin\\theta\\cos\\phi \\\\\n",
    "0 & \\cos\\phi & -\\sin\\phi &-t\\sin\\phi \\\\\n",
    "\\sin\\theta & \\cos\\theta\\sin\\phi & \\cos\\theta\\cos\\phi &t\\cos\\theta\\cos\\phi \\\\\n",
    "0 & 0 & 0 &1\n",
    "\\end{bmatrix}\n",
    "$$"
   ]
  },
  {
   "cell_type": "markdown",
   "metadata": {},
   "source": [
    "**Observation:** y coordinate has the inherent **locality**!"
   ]
  },
  {
   "cell_type": "code",
   "execution_count": null,
   "metadata": {},
   "outputs": [],
   "source": []
  }
 ],
 "metadata": {
  "kernelspec": {
   "display_name": "Python 3",
   "language": "python",
   "name": "python3"
  },
  "language_info": {
   "codemirror_mode": {
    "name": "ipython",
    "version": 3
   },
   "file_extension": ".py",
   "mimetype": "text/x-python",
   "name": "python",
   "nbconvert_exporter": "python",
   "pygments_lexer": "ipython3",
   "version": "3.7.4"
  }
 },
 "nbformat": 4,
 "nbformat_minor": 2
}
